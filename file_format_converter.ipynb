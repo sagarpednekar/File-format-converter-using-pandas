{
 "cells": [
  {
   "attachments": {},
   "cell_type": "markdown",
   "metadata": {},
   "source": [
    "Project 1 - File Format Converter Handout\n",
    "Overview\n",
    "\n",
    "\n",
    "The objective of this project is to develop solutions based on the design provided. In this case, \n",
    "the source data was obtained in the form of CSV files from a MySQL DB.To improve the efficiency of our\n",
    "data engineering pipelines, we need to convert these CSV files into JSON files, since JSON is better to \n",
    "use in downstream applications than CSV files. The scope of this project involves converting CSV files into JSON files."
   ]
  },
  {
   "cell_type": "code",
   "execution_count": 9,
   "metadata": {},
   "outputs": [
    {
     "name": "stdout",
     "output_type": "stream",
     "text": [
      "Requirement already satisfied: pandas in ./.venv/lib/python3.9/site-packages (2.0.3)\n",
      "Requirement already satisfied: python-dateutil>=2.8.2 in ./.venv/lib/python3.9/site-packages (from pandas) (2.8.2)\n",
      "Requirement already satisfied: pytz>=2020.1 in ./.venv/lib/python3.9/site-packages (from pandas) (2023.3)\n",
      "Requirement already satisfied: tzdata>=2022.1 in ./.venv/lib/python3.9/site-packages (from pandas) (2023.3)\n",
      "Requirement already satisfied: numpy>=1.20.3 in ./.venv/lib/python3.9/site-packages (from pandas) (1.25.1)\n",
      "Requirement already satisfied: six>=1.5 in ./.venv/lib/python3.9/site-packages (from python-dateutil>=2.8.2->pandas) (1.16.0)\n"
     ]
    }
   ],
   "source": [
    "!pip install pandas"
   ]
  },
  {
   "cell_type": "code",
   "execution_count": 10,
   "metadata": {},
   "outputs": [],
   "source": [
    "# function to get column names\n",
    "def get_column_names(schemas,schemaName,sortKey=None):\n",
    "    column_list = list(map(lambda order: order['column_name'],list(schemas.get(schemaName))))\n",
    "    # return column_list\n",
    "    if(sortKey != None):\n",
    "        sorted_list = sorted(list(schemas.get(schemaName)),key= lambda order: order.get(sortKey))\n",
    "        return  list(map(lambda order: order['column_name'],list(sorted_list)))\n",
    "    return column_list"
   ]
  },
  {
   "cell_type": "code",
   "execution_count": 11,
   "metadata": {},
   "outputs": [],
   "source": [
    "import glob;\n",
    "\n",
    "# returns list of recursive csv file path \n",
    "# path = 'data/retail_db/*/*'\n",
    "def get_input_file_list(path):\n",
    "    return glob.glob(path,recursive=True)\n"
   ]
  },
  {
   "cell_type": "code",
   "execution_count": 12,
   "metadata": {},
   "outputs": [],
   "source": [
    "import os\n",
    "\n",
    "# path f'data/retail_db_json/{collection_name}'\n",
    "def ensureDirectoryExists(path):\n",
    "    os.makedirs(path,exist_ok=True)\n"
   ]
  },
  {
   "cell_type": "code",
   "execution_count": 13,
   "metadata": {},
   "outputs": [],
   "source": [
    "import pandas as pd \n",
    "\n",
    "def read_csv(filePath,columns):\n",
    "    return pd.read_csv(filePath,names=columns)\n"
   ]
  },
  {
   "cell_type": "code",
   "execution_count": 14,
   "metadata": {},
   "outputs": [],
   "source": [
    "import json\n",
    "\n",
    "def get_schema():\n",
    "    return json.load(open('./data/retail_db/schemas.json'))"
   ]
  },
  {
   "cell_type": "code",
   "execution_count": 15,
   "metadata": {},
   "outputs": [],
   "source": [
    "def process_files(filesList):\n",
    "    for file_name in filesList:\n",
    "        # capture collection name from file path \n",
    "        collection_name = file_name.split('/')[-2]\n",
    "\n",
    "        # enure directory exists for output\n",
    "        ensureDirectoryExists(f'data/retail_db_json/{collection_name}')\n",
    "\n",
    "        print(f'Processing file : {file_name}')\n",
    "\n",
    "        # csv headers\n",
    "        column_headers = get_column_names(get_schema(),collection_name)\n",
    "        \n",
    "        # read csv\n",
    "        collection = read_csv(file_name,column_headers)\n",
    "\n",
    "        # create json file for csv collection \n",
    "        \n",
    "        collection.to_json(f'data/retail_db_json/{collection_name}/part-00000')   \n"
   ]
  },
  {
   "cell_type": "code",
   "execution_count": 16,
   "metadata": {},
   "outputs": [
    {
     "name": "stdout",
     "output_type": "stream",
     "text": [
      "Processing file : data/retail_db/customers/part-00000\n",
      "Processing file : data/retail_db/products/part-00000\n",
      "Processing file : data/retail_db/departments/part-00000\n",
      "Processing file : data/retail_db/order_items/part-00000\n",
      "Processing file : data/retail_db/orders/part-00000\n",
      "Processing file : data/retail_db/categories/part-00000\n"
     ]
    }
   ],
   "source": [
    "path = 'data/retail_db/*/*'\n",
    "fileLists = get_input_file_list(path)\n",
    "\n",
    "process_files(fileLists)"
   ]
  }
 ],
 "metadata": {
  "kernelspec": {
   "display_name": ".venv",
   "language": "python",
   "name": "python3"
  },
  "language_info": {
   "codemirror_mode": {
    "name": "ipython",
    "version": 3
   },
   "file_extension": ".py",
   "mimetype": "text/x-python",
   "name": "python",
   "nbconvert_exporter": "python",
   "pygments_lexer": "ipython3",
   "version": "3.9.6"
  },
  "orig_nbformat": 4
 },
 "nbformat": 4,
 "nbformat_minor": 2
}
