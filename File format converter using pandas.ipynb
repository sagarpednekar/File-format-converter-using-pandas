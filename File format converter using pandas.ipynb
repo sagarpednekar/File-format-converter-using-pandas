{
 "cells": [
  {
   "attachments": {},
   "cell_type": "markdown",
   "metadata": {},
   "source": [
    "Project 1 - File Format Converter Handout\n",
    "Overview\n",
    "\n",
    "\n",
    "The objective of this project is to develop solutions based on the design provided. In this case, \n",
    "the source data was obtained in the form of CSV files from a MySQL DB.To improve the efficiency of our\n",
    "data engineering pipelines, we need to convert these CSV files into JSON files, since JSON is better to \n",
    "use in downstream applications than CSV files. The scope of this project involves converting CSV files into JSON files."
   ]
  },
  {
   "cell_type": "code",
   "execution_count": 123,
   "metadata": {},
   "outputs": [],
   "source": [
    "import glob;"
   ]
  },
  {
   "cell_type": "code",
   "execution_count": 124,
   "metadata": {},
   "outputs": [],
   "source": [
    "src_files =glob.glob('data/retail_db/*/*',recursive=True)"
   ]
  },
  {
   "cell_type": "code",
   "execution_count": 125,
   "metadata": {},
   "outputs": [],
   "source": [
    "import pandas as pd"
   ]
  },
  {
   "cell_type": "code",
   "execution_count": 126,
   "metadata": {},
   "outputs": [
    {
     "name": "stdout",
     "output_type": "stream",
     "text": [
      "Shape of the file data/retail_db/customers/part-00000 is (12435, 9)\n",
      "Shape of the file data/retail_db/products/part-00000 is (1345, 6)\n",
      "Shape of the file data/retail_db/departments/part-00000 is (6, 2)\n",
      "Shape of the file data/retail_db/order_items/part-00000 is (172198, 6)\n",
      "Shape of the file data/retail_db/orders/part-00000 is (68883, 4)\n",
      "Shape of the file data/retail_db/categories/part-00000 is (58, 3)\n"
     ]
    }
   ],
   "source": [
    "for file_name in src_files:\n",
    "    df= pd.read_csv(file_name,header= None)\n",
    "    print(f'Shape of the file {file_name} is {df.shape}')"
   ]
  },
  {
   "cell_type": "code",
   "execution_count": 127,
   "metadata": {},
   "outputs": [],
   "source": [
    "# function to get column names\n",
    "def get_column_names(schemas,schemaName,sortKey=None):\n",
    "    column_list = list(map(lambda order: order['column_name'],list(schemas.get(schemaName))))\n",
    "    # return column_list\n",
    "    if(sortKey != None):\n",
    "        sorted_list = sorted(list(schemas.get(schemaName)),key= lambda order: order.get(sortKey))\n",
    "        return  list(map(lambda order: order['column_name'],list(sorted_list)))\n",
    "    return column_list"
   ]
  },
  {
   "cell_type": "code",
   "execution_count": 128,
   "metadata": {},
   "outputs": [],
   "source": [
    "import json"
   ]
  },
  {
   "cell_type": "code",
   "execution_count": 129,
   "metadata": {},
   "outputs": [],
   "source": [
    "schemas = json.load(open('./data/retail_db/schemas.json'))"
   ]
  },
  {
   "cell_type": "code",
   "execution_count": 130,
   "metadata": {},
   "outputs": [
    {
     "data": {
      "text/plain": [
       "['order_id', 'order_date', 'order_customer_id', 'order_status']"
      ]
     },
     "execution_count": 130,
     "metadata": {},
     "output_type": "execute_result"
    }
   ],
   "source": [
    "order_columns = get_column_names(schemas,'orders')\n",
    "order_columns"
   ]
  },
  {
   "cell_type": "code",
   "execution_count": 131,
   "metadata": {},
   "outputs": [
    {
     "data": {
      "text/plain": [
       "['data', 'retail_db', 'customers', 'part-00000']"
      ]
     },
     "execution_count": 131,
     "metadata": {},
     "output_type": "execute_result"
    }
   ],
   "source": [
    "orders= pd.read_csv('./data/retail_db/orders/part-00000',names=order_columns)\n",
    "src_files[0].split('/')"
   ]
  },
  {
   "cell_type": "code",
   "execution_count": 132,
   "metadata": {},
   "outputs": [],
   "source": [
    "import os\n"
   ]
  },
  {
   "cell_type": "code",
   "execution_count": 134,
   "metadata": {},
   "outputs": [
    {
     "name": "stdout",
     "output_type": "stream",
     "text": [
      "Processing file : data/retail_db/customers/part-00000\n",
      "Processing file : data/retail_db/products/part-00000\n",
      "Processing file : data/retail_db/departments/part-00000\n",
      "Processing file : data/retail_db/order_items/part-00000\n",
      "Processing file : data/retail_db/orders/part-00000\n",
      "Processing file : data/retail_db/categories/part-00000\n"
     ]
    }
   ],
   "source": [
    "\n",
    "for file_name in src_files:\n",
    "    collection_name = file_name.split('/')[-2]\n",
    "    os.makedirs(f'data/retail_db_json/{collection_name}',exist_ok=True)\n",
    "    print(f'Processing file : {file_name}')\n",
    "    column_names = get_column_names(schemas,collection_name)\n",
    "    # read csv\n",
    "    collection = pd.read_csv(file_name,names=column_names)\n",
    "    collection.to_json(f'data/retail_db_json/{collection_name}/part-00000',orient='records')"
   ]
  }
 ],
 "metadata": {
  "kernelspec": {
   "display_name": ".venv",
   "language": "python",
   "name": "python3"
  },
  "language_info": {
   "codemirror_mode": {
    "name": "ipython",
    "version": 3
   },
   "file_extension": ".py",
   "mimetype": "text/x-python",
   "name": "python",
   "nbconvert_exporter": "python",
   "pygments_lexer": "ipython3",
   "version": "3.9.6"
  },
  "orig_nbformat": 4
 },
 "nbformat": 4,
 "nbformat_minor": 2
}
